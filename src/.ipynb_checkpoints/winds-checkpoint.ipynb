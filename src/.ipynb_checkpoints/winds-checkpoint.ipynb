{
 "cells": [
  {
   "cell_type": "markdown",
   "id": "46f45554192b4b06",
   "metadata": {},
   "source": [
    "# Weather station wind data (LT and NRT)"
   ]
  },
  {
   "cell_type": "markdown",
   "id": "974af889",
   "metadata": {},
   "source": [
    "This notebook explores the wind data from LT and NRT weather stations to identify possible differences."
   ]
  },
  {
   "cell_type": "code",
   "execution_count": 17,
   "id": "ee78bc83c519e860",
   "metadata": {
    "ExecuteTime": {
     "end_time": "2024-05-03T13:37:16.896668Z",
     "start_time": "2024-05-03T13:37:16.892189Z"
    }
   },
   "source": [
    "import pandas as pd\n",
    "import scipy\n",
    "import numpy as np\n",
    "import matplotlib.pyplot as plt\n",
    "from sklearn.neighbors import KernelDensity\n",
    "import pycircular\n",
    "\n",
    "def standard_angle(angle: float) -> float:\n",
    "    \"\"\"\n",
    "    Takes an angle in radians and returns it in the interval 0, 2*pi\n",
    "    \n",
    "    :param angle: Angle to be standardised, in radians.\n",
    "    :return: An equivalent angle in the interval 0, 2*pi\n",
    "    \"\"\"\n",
    "    if (angle > 2*np.pi) or (angle < 0):\n",
    "        return angle%(2*np.pi)\n",
    "    else:\n",
    "        return angle"
   ],
   "outputs": []
  },
  {
   "cell_type": "code",
   "execution_count": 18,
   "id": "e83cf076",
   "metadata": {
    "ExecuteTime": {
     "end_time": "2024-05-03T13:37:18.714251Z",
     "start_time": "2024-05-03T13:37:17.246142Z"
    }
   },
   "source": [
    "data_path = \"../data/meteo_lt.dat\"\n",
    "col_names = [\"date\", \"wms_status\", \"rain_flag\", \"moisture_flag\", \"truss_temp\", \"oil_temp\", \"wind_speed\", \"wind_direction\", \"ambient_temp\", \"dew_point\", \"humidity\", \"air_pressure\", \"light\"]\n",
    "df1 = pd.read_csv(data_path, sep=\" \", names = col_names, parse_dates=[0], date_format=\"%Y-%m-%d%H:%M:%SUTC\")\n",
    "df1[\"wind_direction_radians\"] = df1[\"wind_direction\"].apply(lambda x: standard_angle(np.radians(x)))\n",
    "    "
   ],
   "outputs": []
  },
  {
   "cell_type": "code",
   "execution_count": 19,
   "id": "328e5754",
   "metadata": {
    "ExecuteTime": {
     "end_time": "2024-05-03T13:37:18.723598Z",
     "start_time": "2024-05-03T13:37:18.715251Z"
    }
   },
   "source": [
    "df1"
   ],
   "outputs": []
  },
  {
   "cell_type": "markdown",
   "id": "db5130177eb0732c",
   "metadata": {},
   "source": [
    "## Wind speed distribution"
   ]
  },
  {
   "cell_type": "code",
   "execution_count": 20,
   "id": "262dd69a",
   "metadata": {
    "ExecuteTime": {
     "end_time": "2024-05-03T13:37:22.728715Z",
     "start_time": "2024-05-03T13:37:20.862934Z"
    }
   },
   "source": [
    "df1[\"wind_speed\"].plot.kde(xlim=(0, 15), title=\"Wind speed PDF (via KDE)\")\n",
    "plt.xlabel(xlabel=\"Wind speed (m/s)\")"
   ],
   "outputs": []
  },
  {
   "cell_type": "markdown",
   "id": "2b35e9f7fa0c78d0",
   "metadata": {},
   "source": [
    "## Wind direction distribution"
   ]
  },
  {
   "cell_type": "markdown",
   "id": "f14641bcb665bc0",
   "metadata": {},
   "source": [
    "A polar scatter plot can help us visualise the most frequent wind speed and directions."
   ]
  },
  {
   "cell_type": "code",
   "execution_count": 21,
   "id": "8c5392d2",
   "metadata": {
    "ExecuteTime": {
     "end_time": "2024-05-03T13:37:23.772516Z",
     "start_time": "2024-05-03T13:37:22.730414Z"
    }
   },
   "source": [
    "fig = plt.figure()\n",
    "ax = fig.add_subplot(projection='polar')\n",
    "c = ax.scatter(df1[\"wind_direction_radians\"], df1[\"wind_speed\"], alpha=0.005)\n",
    "ax.set_rmax(20)\n",
    "ax.set_rticks([5, 10, 15])\n",
    "ax.set_theta_zero_location('N')"
   ],
   "outputs": []
  },
  {
   "cell_type": "markdown",
   "id": "20061dc0461b1d30",
   "metadata": {},
   "source": [
    "To get an idea of the density of the data, we can use a density estimator to approximate a continuous PDF, this is, a function $p$ such that $$\\int_0^{2\\pi} p(\\theta) d\\theta = 1$$ and $$\\int_{\\theta_1}^{\\theta_2} p(\\theta) d\\theta$$ gives the probability of the wind direction being in the interval $[\\theta_1, \\theta_2]$."
   ]
  },
  {
   "cell_type": "code",
   "execution_count": 22,
   "id": "886e893d",
   "metadata": {
    "ExecuteTime": {
     "end_time": "2024-05-03T13:37:24.686997Z",
     "start_time": "2024-05-03T13:37:23.773170Z"
    }
   },
   "source": [
    "kde = scipy.stats.gaussian_kde(df1[\"wind_direction\"])\n",
    "theta = np.arange(0, 360, 1)\n",
    "r = kde(theta)\n",
    "fig, ax = plt.subplots(subplot_kw={'projection': 'polar'})\n",
    "ax.plot(theta/360*2*np.pi, r)\n",
    "ax.set_rmax(0.006)\n",
    "ax.set_rticks([0.002, 0.004, 0.006])  # Less radial ticks\n",
    "ax.set_rlabel_position(-22.5)  # Move radial labels away from plotted line\n",
    "ax.grid(True)\n",
    "ax.set_theta_zero_location('N')\n",
    "ax.set_title(\"Wind KDE\", va='bottom')\n",
    "plt.show()"
   ],
   "outputs": []
  },
  {
   "cell_type": "markdown",
   "id": "77c67eed68fd0a94",
   "metadata": {},
   "source": [
    "Linear KDE is not applicable because our data is angular and, therefore, modular (see the discontinuity of the KDE at $\\theta = 0\\;\\text{deg}$). There aren't many tools designed to do KDE analysis on circular data. We try the `pycircular` package.\n",
    "\n",
    "We first select a sample to calculate the bandwith."
   ]
  },
  {
   "cell_type": "code",
   "execution_count": 34,
   "id": "f317bb0186e77b9a",
   "metadata": {
    "ExecuteTime": {
     "end_time": "2024-05-03T13:44:39.113327Z",
     "start_time": "2024-05-03T13:44:31.943233Z"
    }
   },
   "source": [
    "wind_sample = df1[\"wind_direction_radians\"].sample(n=2000).tolist()\n",
    "wind_sample\n",
    "bw = pycircular.circular.bwEstimation(wind_sample)\n",
    "print(\"Suggested bandwidth:\",bw)"
   ],
   "outputs": []
  },
  {
   "cell_type": "code",
   "execution_count": 37,
   "id": "a4c387a2591b789a",
   "metadata": {
    "ExecuteTime": {
     "end_time": "2024-05-03T13:46:38.097134Z",
     "start_time": "2024-05-03T13:46:36.158083Z"
    }
   },
   "source": [
    "circular_kde = pycircular.circular.kernel(df1[\"wind_direction_radians\"], bw=bw, n=256)"
   ],
   "outputs": []
  },
  {
   "cell_type": "code",
   "execution_count": 31,
   "id": "af00c2cb042fb674",
   "metadata": {
    "ExecuteTime": {
     "end_time": "2024-05-03T13:43:31.926299Z",
     "start_time": "2024-05-03T13:43:31.809547Z"
    }
   },
   "source": [
    "x = np.linspace(0, 2*np.pi, 256)\n",
    "\n",
    "fig, ax = plt.subplots(subplot_kw={'projection': 'polar'})\n",
    "ax.set_theta_zero_location('N')\n",
    "ax.set_title(\"Wind KDE\", va='bottom')\n",
    "ax.plot(x, circular_kde)\n",
    "plt.show()"
   ],
   "outputs": []
  },
  {
   "cell_type": "markdown",
   "id": "c8fbd25e",
   "metadata": {},
   "source": [
    "https://gist.github.com/jobovy/a10a97353b8200b397de1f35a6525ece"
   ]
  },
  {
   "cell_type": "markdown",
   "id": "5716fedde565386d",
   "metadata": {},
   "source": [
    "# NRT Weather data"
   ]
  },
  {
   "cell_type": "markdown",
   "id": "62636a690a9fc1a",
   "metadata": {},
   "source": [
    "**Connector doesn't work**. In contact with Joao to get the right credentials."
   ]
  },
  {
   "cell_type": "code",
   "execution_count": null,
   "id": "875b176a40280066",
   "metadata": {},
   "source": [
    "from influxdb import InfluxDBClient\n",
    "\n",
    "host = 'influxdb.services.newrobotictelescope.org'\n",
    "port = 8086\n",
    "username = 'nrt-admin'\n",
    "password = 'super_secret_password'\n",
    "ssl = True\n",
    "verify_ssl = True\n",
    "\n",
    "client = InfluxDBClient(host=host, port=port, username=username, password=password, ssl=ssl, verify_ssl=verify_ssl)\n",
    "client.get_list_database()"
   ],
   "outputs": []
  },
  {
   "cell_type": "markdown",
   "id": "bc4dabf70fde2dd3",
   "metadata": {},
   "source": [
    "Temporary solution: download the data and load it locally."
   ]
  },
  {
   "cell_type": "code",
   "execution_count": 14,
   "id": "eb6057fd1b236c06",
   "metadata": {
    "ExecuteTime": {
     "end_time": "2024-05-03T13:36:26.970234Z",
     "start_time": "2024-05-03T13:36:26.050551Z"
    }
   },
   "source": [
    "data_path = \"../data/2024-05-03_13_51_influxdb_data.csv\"\n",
    "col_names = [\"start_date\", \"end_date\", \"date\", \"value\", \"field\", \"measurement\", \"device\", \"site\", \"source\", \"subsystem\"]\n",
    "\n",
    "\n",
    "with open(data_path) as file:\n",
    "    filedata = file.read()\n",
    "\n",
    "# Ignore the first columns of data    \n",
    "filedata = filedata.replace(\",,0,\", \"\")\n",
    "filedata = filedata.replace(\",,1,\", \"\")\n",
    "\n",
    "\n",
    "# Save data again\n",
    "with open(data_path, \"w\") as file:\n",
    "    file.write(filedata)\n",
    "    \n",
    "# Import file in pandas\n",
    "df2 = pd.read_csv(data_path, sep=\",\", names = col_names, skiprows=4)\n",
    "\n",
    "# Drop rows in which the date is longer than 20 characters\n",
    "# For some reason Infux outputs the last measurement with more precision than the other measurements\n",
    "df2 = df2[df2[\"date\"].str.len() <= 20]\n",
    "\n",
    "# Extract wind speed and direction in different dataframes and convert date to datetime\n",
    "df2_direction = df2[df2[\"field\"] == \"wind_direction_avg\"]\n",
    "df2_direction = df2_direction[[\"date\", \"value\"]]\n",
    "df2_direction[\"date\"] = pd.to_datetime(df2_direction[\"date\"], format=\"%Y-%m-%dT%H:%M:%SZ\")\n",
    "\n",
    "df2_speed = df2[df2[\"field\"] == \"wind_speed_avg\"]\n",
    "df2_speed = df2_speed[[\"date\", \"value\"]]\n",
    "df2_speed[\"date\"] = pd.to_datetime(df2_speed[\"date\"], format=\"%Y-%m-%dT%H:%M:%SZ\")\n",
    "\n",
    "# Merge both dataframes on date\n",
    "df2 = pd.merge(df2_speed, df2_direction, on=\"date\", suffixes=(\"_speed\", \"_direction\"))\n",
    "\n",
    "# Change the name of the columns to make it consistent with the LT data\n",
    "df2 = df2.rename(columns={\"date\": \"date\", \"value_speed\": \"wind_speed\", \"value_direction\": \"wind_direction\"})\n",
    "\n",
    "# Convert wind direction to radians\n",
    "df2[\"wind_direction_radians\"] = df2[\"wind_direction\"].apply(lambda x: standard_angle(np.radians(x)))"
   ],
   "outputs": []
  },
  {
   "cell_type": "code",
   "execution_count": 15,
   "id": "b96e3599ecc69636",
   "metadata": {
    "ExecuteTime": {
     "end_time": "2024-05-03T13:36:28.085230Z",
     "start_time": "2024-05-03T13:36:28.078724Z"
    }
   },
   "source": [
    "df2"
   ],
   "outputs": []
  },
  {
   "cell_type": "markdown",
   "id": "73235b41cb6a30a6",
   "metadata": {},
   "source": [
    "We can now perform the same plots as with the LT weather data. First, however, from the LT data, we need to select the same time period as the NRT data, starting from February 7th 2024."
   ]
  },
  {
   "cell_type": "code",
   "execution_count": 28,
   "id": "bac15cce07792f6",
   "metadata": {
    "ExecuteTime": {
     "end_time": "2024-05-03T13:40:52.323129Z",
     "start_time": "2024-05-03T13:40:52.298760Z"
    }
   },
   "source": [
    "df1_restricted = df1[df1[\"date\"] >= \"2024-02-07\"]"
   ],
   "outputs": []
  },
  {
   "cell_type": "markdown",
   "id": "c9c2772128a2decb",
   "metadata": {},
   "source": [
    "## Wind speed distribution comparison"
   ]
  },
  {
   "cell_type": "code",
   "execution_count": 29,
   "id": "2741ffc7646b4e1f",
   "metadata": {
    "ExecuteTime": {
     "end_time": "2024-05-03T13:41:07.165161Z",
     "start_time": "2024-05-03T13:41:06.207305Z"
    }
   },
   "source": [
    "df1_restricted[\"wind_speed\"].plot.kde(xlim=(0, 15), title=\"Wind speed PDF (via KDE)\")\n",
    "df2[\"wind_speed\"].plot.kde(xlim=(0, 15), title=\"Wind speed PDF (via KDE)\")\n",
    "plt.xlabel(xlabel=\"Wind speed (m/s)\")\n",
    "plt.legend([\"LT\", \"NRT\"])"
   ],
   "outputs": []
  },
  {
   "cell_type": "markdown",
   "id": "ee95528a1b3c5a62",
   "metadata": {},
   "source": [
    "## Wind direction distribution comparison"
   ]
  },
  {
   "cell_type": "code",
   "execution_count": 35,
   "id": "fc9691e8ebf992d7",
   "metadata": {
    "ExecuteTime": {
     "end_time": "2024-05-03T13:45:15.944784Z",
     "start_time": "2024-05-03T13:45:10.695445Z"
    }
   },
   "source": [
    "wind_sample = df2[\"wind_direction_radians\"].sample(n=2000).tolist()\n",
    "wind_sample\n",
    "bw = pycircular.circular.bwEstimation(wind_sample)\n",
    "print(\"Suggested bandwidth:\",bw)"
   ],
   "outputs": []
  },
  {
   "cell_type": "code",
   "execution_count": 41,
   "id": "10c6c9144e391270",
   "metadata": {
    "ExecuteTime": {
     "end_time": "2024-05-03T13:48:30.019848Z",
     "start_time": "2024-05-03T13:48:29.608801Z"
    }
   },
   "source": [
    "circular_kde1 = pycircular.circular.kernel(df1_restricted[\"wind_direction_radians\"].tolist(), bw=bw, n=256)\n",
    "circular_kde2 = pycircular.circular.kernel(df2[\"wind_direction_radians\"].tolist(), bw=bw, n=256)"
   ],
   "outputs": []
  },
  {
   "cell_type": "code",
   "execution_count": 42,
   "id": "aa45f2ee96f17e23",
   "metadata": {
    "ExecuteTime": {
     "end_time": "2024-05-03T13:48:53.523587Z",
     "start_time": "2024-05-03T13:48:53.401042Z"
    }
   },
   "source": [
    "x = np.linspace(0, 2*np.pi, 256)\n",
    "\n",
    "fig, ax = plt.subplots(subplot_kw={'projection': 'polar'})\n",
    "ax.set_theta_zero_location('N')\n",
    "ax.set_title(\"Wind KDE\", va='bottom')\n",
    "ax.plot(x, circular_kde1)\n",
    "ax.plot(x, circular_kde2)\n",
    "plt.show()"
   ],
   "outputs": []
  },
  {
   "cell_type": "code",
   "execution_count": 72,
   "id": "2dcfb08f043dc2a",
   "metadata": {
    "ExecuteTime": {
     "end_time": "2024-05-03T14:27:11.469686Z",
     "start_time": "2024-05-03T14:27:11.463667Z"
    }
   },
   "source": [
    "max_index1 = np.argmax(circular_kde1)\n",
    "max_index2 = np.argmax(circular_kde2)\n",
    "print(\"Mode angle at KDE1 (LT):\", x[max_index1], \"(\", np.degrees(x[max_index1]), \"deg)\")\n",
    "print(\"Mode angle at KDE2 (NRT):\", x[max_index2], \"(\", np.degrees(x[max_index2]), \"deg)\")"
   ],
   "outputs": []
  },
  {
   "cell_type": "markdown",
   "id": "e0d97af71ce61d72",
   "metadata": {},
   "source": [
    "## Questions and next steps\n",
    "* It appears that there are significant differnces in the wind distribution, particularly in the direction. LT has a predominantly N-W wind, at 340 degrees. NRT has a predominantly northern wind, with the most likely direction at 40 degrees.\n",
    "* Wind speed is more similar. LT data shows more frequent windspeeds under 2 m/s. NRT data has a higher frequency of winds in the 2-5 m/s range. However, after 5m/s, the wind distribution is very similar.\n",
    "* This data is, however, restricted to the last 3 months. It would be interesting to see if these differences are consistent throughout the year.\n",
    "* It would also be interesting to evaluate the peak in wind speeds (wind gusts). NRT weather station has a min/max record, but LT does not record this information.\n"
   ]
  },
  {
   "cell_type": "code",
   "execution_count": null,
   "id": "39e692dc10d54b9",
   "metadata": {},
   "source": [],
   "outputs": []
  }
 ],
 "metadata": {
  "kernelspec": {
   "display_name": "Python 3 (ipykernel)",
   "language": "python",
   "name": "python3"
  },
  "language_info": {
   "codemirror_mode": {
    "name": "ipython",
    "version": 3
   },
   "file_extension": ".py",
   "mimetype": "text/x-python",
   "name": "python",
   "nbconvert_exporter": "python",
   "pygments_lexer": "ipython3",
   "version": "3.11.6"
  }
 },
 "nbformat": 4,
 "nbformat_minor": 5
}
