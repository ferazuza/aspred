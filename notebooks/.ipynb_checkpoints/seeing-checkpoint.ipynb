{
 "cells": [
  {
   "metadata": {},
   "cell_type": "markdown",
   "source": "# Gathering seeing data",
   "id": "5c21966be250ab5d"
  },
  {
   "metadata": {},
   "cell_type": "markdown",
   "source": [
    "I had some discussions with [Miguel Rodríguez Alarcon (IAC)](https://scholar.google.com/citations?user=ySJtt44AAAAJ&hl=es&oi=ao) to discuss the best way to measure and keep track of seeing. \n",
    "* He discouraged me from using from using FWHM from images, as this parameter will combine astronomical seeing effects with instrumental seeing. \n",
    "* He suggested using the DIMM sensors available throughout the institute. \n",
    "* He suggested the idea of observing if variability in DIMM seeing is directly translated into higher FWHM in the images and, therefore, if FWHM can be used for atmospheric-only seeing (i.e. if instrumental seeing is more or less constant)."
   ],
   "id": "426bfc82cfa2af69"
  },
  {
   "metadata": {},
   "cell_type": "markdown",
   "source": [
    "## Sources of DIMM seeing\n",
    "* ING - WHTR2D2, accessible via <https://astro.ing.iac.es/seeing/r2d2_data.php>\n",
    "* TNG - FGC-DIMM, I don't find access to raw data via web."
   ],
   "id": "c0f7f0b6bc7b4a73"
  },
  {
   "metadata": {},
   "cell_type": "markdown",
   "source": "### Gathering data from R2D2",
   "id": "627c4aa6297a75b7"
  },
  {
   "metadata": {
    "ExecuteTime": {
     "end_time": "2024-05-22T16:31:29.966119Z",
     "start_time": "2024-05-22T16:31:28.172252Z"
    }
   },
   "cell_type": "code",
   "source": [
    "from aspred.connector import r2d2_seeing\n",
    "from datetime import datetime\n",
    "import pandas as pd\n",
    "\n",
    "initial_date = datetime(2024, 1, 1)\n",
    "final_date = datetime(2024, 5, 20)\n",
    "\n",
    "df = r2d2_seeing(initial_date, final_date)"
   ],
   "id": "44fade8553b0c7e",
   "execution_count": 1,
   "outputs": []
  },
  {
   "metadata": {
    "ExecuteTime": {
     "end_time": "2024-05-22T16:31:32.347425Z",
     "start_time": "2024-05-22T16:31:31.213108Z"
    }
   },
   "cell_type": "code",
   "source": "df[\"Seeing\"].plot.kde(xlim=(0, 3))",
   "id": "1602f604f64a1b80",
   "execution_count": 2,
   "outputs": []
  },
  {
   "metadata": {},
   "cell_type": "markdown",
   "source": [
    "* Question 1: what's the relation between the calibrated seeing during the photometric pipeline (FWHM), and the DIMM-measured seeing?\n",
    "* Question 2: how close are TNG and ING seeing measurements?\n",
    "* Question 3: how can the seeing be predicted from weather data?"
   ],
   "id": "87ffa773c3c36466"
  },
  {
   "metadata": {
    "ExecuteTime": {
     "end_time": "2024-05-22T16:31:34.289280Z",
     "start_time": "2024-05-22T16:31:34.126371Z"
    }
   },
   "cell_type": "code",
   "source": [
    "from aspred.connector import query_from_lt_header\n",
    "import aspred.utils\n",
    "import datetime\n",
    "\n",
    "# Initial date\n",
    "\n",
    "initial_date_mjd = aspred.utils.datetime_to_mjd(initial_date)\n",
    "final_date_mjd = aspred.utils.datetime_to_mjd(final_date)\n",
    "\n",
    "query = \"\"\"SELECT mjd, AGFWHM FROM allkeys WHERE AGFWHM != 0 AND mjd > \"\"\" + str(initial_date_mjd) + \" AND mjd < \" + str(final_date_mjd) + \" ORDER BY mjd ASC\"\n",
    "df2 = query_from_lt_header(query)\n",
    "df2[\"date\"] = df2[\"mjd\"].apply(aspred.utils.mjd_to_datetime)\n",
    "\n",
    "print(len(df2), \"rows\")"
   ],
   "id": "d0e1ed8b754695ab",
   "execution_count": 3,
   "outputs": []
  },
  {
   "metadata": {
    "ExecuteTime": {
     "end_time": "2024-05-22T16:31:40.387033Z",
     "start_time": "2024-05-22T16:31:40.375116Z"
    }
   },
   "cell_type": "code",
   "source": [
    "# Remove outliers with FWHM > 10\n",
    "df2 = df2[df2[\"AGFWHM\"] < 10]"
   ],
   "id": "619f387c4dc05f5a",
   "execution_count": 4,
   "outputs": []
  },
  {
   "metadata": {
    "ExecuteTime": {
     "end_time": "2024-05-22T16:31:55.669508Z",
     "start_time": "2024-05-22T16:31:55.023276Z"
    }
   },
   "cell_type": "code",
   "source": [
    "import matplotlib.pyplot as plt\n",
    "df2[\"AGFWHM\"].plot.kde(xlim=(0, 15), label=\"FWHM (LT)\")\n",
    "df[\"Seeing\"].plot.kde(xlim=(0, 15), label=\"DIMM seeing (R2D2)\")\n",
    "plt.title(\"Seeing comparison\")\n",
    "plt.legend()"
   ],
   "id": "abd10cb642916c00",
   "execution_count": 6,
   "outputs": []
  },
  {
   "metadata": {
    "ExecuteTime": {
     "end_time": "2024-05-22T16:32:09.810282Z",
     "start_time": "2024-05-22T16:32:09.796613Z"
    }
   },
   "cell_type": "code",
   "source": [
    "# Creates a dataframe with 10 minute intervals from the initial date to the last date\n",
    "date_range = pd.date_range(start=initial_date, end=final_date, freq=\"10min\")"
   ],
   "id": "b232f18a1579f2c8",
   "execution_count": 7,
   "outputs": []
  },
  {
   "metadata": {
    "ExecuteTime": {
     "end_time": "2024-05-22T16:32:17.795130Z",
     "start_time": "2024-05-22T16:32:10.134501Z"
    }
   },
   "cell_type": "code",
   "source": [
    "r2d2_list = []\n",
    "fwhm_list = []\n",
    "date_list = []\n",
    "\n",
    "# Loop through the date range and calculate the average seeing (R2D2 and FWHM) for each interval\n",
    "for i, date in enumerate(date_range):\n",
    "    print(i, \"out of \", len(date_range), end=\"\\r\")\n",
    "    # Add exception for last date\n",
    "    if i == len(date_range) - 1:\n",
    "        continue\n",
    "    # Find r2d2 seeing between this date and the next one\n",
    "    r2d2_seeing = df[(df[\"Date\"] >= date) & (df[\"Date\"] < date_range[i+1])][\"Seeing\"]\n",
    "    # Calculate average seeing for that interval\n",
    "    r2d2_seeing_mean = r2d2_seeing.mean()\n",
    "    # Find FWHM between this date and the next one\n",
    "    fwhm = df2[(df2[\"date\"] >= date) & (df2[\"date\"] < date_range[i+1])][\"AGFWHM\"]\n",
    "    # Calculate average FWHM for that interval\n",
    "    fwhm_mean = fwhm.mean()\n",
    "    # Append to the lists\n",
    "    r2d2_list.append(r2d2_seeing_mean)\n",
    "    fwhm_list.append(fwhm_mean)\n",
    "    date_list.append(date)\n",
    "    "
   ],
   "id": "67b523506d204f5e",
   "execution_count": 8,
   "outputs": []
  },
  {
   "metadata": {
    "ExecuteTime": {
     "end_time": "2024-05-22T16:32:28.860959Z",
     "start_time": "2024-05-22T16:32:28.768027Z"
    }
   },
   "cell_type": "code",
   "source": [
    "# Create dataframe with lists\n",
    "df3 = pd.DataFrame({\"date\": date_list, \"r2d2_seeing\": r2d2_list, \"fwhm_seeing\": fwhm_list})\n",
    "# Remove any rows that contains NaN in either column\n",
    "df3 = df3.dropna()"
   ],
   "id": "d7a263f994b9fb75",
   "execution_count": 9,
   "outputs": []
  },
  {
   "metadata": {
    "ExecuteTime": {
     "end_time": "2024-05-22T16:33:31.772212Z",
     "start_time": "2024-05-22T16:33:31.569667Z"
    }
   },
   "cell_type": "code",
   "source": [
    "#Plot r2d2 seeing vs FWHM seeing\n",
    "plt.scatter(df3[\"r2d2_seeing\"], df3[\"fwhm_seeing\"], alpha=0.5, s=1)\n",
    "plt.xlabel(\"R2D2 seeing\")\n",
    "plt.ylabel(\"FWHM seeing\")\n",
    "plt.title(\"Seeing comparison\")"
   ],
   "id": "9668a03cade94a18",
   "execution_count": 14,
   "outputs": []
  },
  {
   "metadata": {
    "ExecuteTime": {
     "end_time": "2024-05-22T16:33:53.042820Z",
     "start_time": "2024-05-22T16:33:53.027827Z"
    }
   },
   "cell_type": "code",
   "source": [
    "# Find and assess correlation\n",
    "df3.corr()"
   ],
   "id": "3acc54a64d73d37d",
   "execution_count": 15,
   "outputs": []
  },
  {
   "metadata": {
    "ExecuteTime": {
     "end_time": "2024-05-22T16:43:14.972588Z",
     "start_time": "2024-05-22T16:43:14.681988Z"
    }
   },
   "cell_type": "code",
   "source": [
    "# Plot r2d2 seeing vs FWHM seeing with correlation line\n",
    "import seaborn as sns\n",
    "sns.regplot(x=\"r2d2_seeing\", y=\"fwhm_seeing\", data=df3, scatter_kws={\"s\": 1})\n",
    "plt.xlabel(\"R2D2 seeing (arcsec)\")\n",
    "plt.ylabel(\"FWHM seeing (arcsec)\")\n",
    "plt.title(\"Seeing comparison\")"
   ],
   "id": "ba75a1387e5b4ea5",
   "execution_count": 20,
   "outputs": []
  },
  {
   "metadata": {},
   "cell_type": "markdown",
   "source": "Conclusion: there is no relation between the seeing measured by the DIMM sensor and the seeing measured by the FWHM in the images.\n",
   "id": "be76b90e57d78cef"
  },
  {
   "metadata": {},
   "cell_type": "code",
   "execution_count": null,
   "source": "",
   "id": "233d8b89309885fd",
   "outputs": []
  }
 ],
 "metadata": {
  "kernelspec": {
   "display_name": "Python 3",
   "language": "python",
   "name": "python3"
  },
  "language_info": {
   "codemirror_mode": {
    "name": "ipython",
    "version": 2
   },
   "file_extension": ".py",
   "mimetype": "text/x-python",
   "name": "python",
   "nbconvert_exporter": "python",
   "pygments_lexer": "ipython2",
   "version": "2.7.6"
  }
 },
 "nbformat": 4,
 "nbformat_minor": 5
}
